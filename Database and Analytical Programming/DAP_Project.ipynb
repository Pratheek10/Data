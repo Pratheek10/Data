{
 "cells": [
  {
   "cell_type": "code",
   "execution_count": 30,
   "id": "a22c5dbb",
   "metadata": {},
   "outputs": [],
   "source": [
    "import pymongo\n",
    "import pandas as pd\n",
    "import json"
   ]
  },
  {
   "cell_type": "code",
   "execution_count": 31,
   "id": "0e08efee",
   "metadata": {},
   "outputs": [],
   "source": [
    "from pymongo import MongoClient"
   ]
  },
  {
   "cell_type": "code",
   "execution_count": 15,
   "id": "afd42ded",
   "metadata": {},
   "outputs": [],
   "source": [
    "client = pymongo.MongoClient(\"mongodb://localhost:27017/\")"
   ]
  },
  {
   "cell_type": "code",
   "execution_count": 25,
   "id": "58af88ad",
   "metadata": {},
   "outputs": [],
   "source": [
    "df = pd.read_csv(\"Air_Traffic_Passenger_Statistics.csv\")"
   ]
  },
  {
   "cell_type": "code",
   "execution_count": 26,
   "id": "09c5004d",
   "metadata": {},
   "outputs": [],
   "source": [
    "db = client[\"Passenger-Details\"]"
   ]
  },
  {
   "cell_type": "code",
   "execution_count": 18,
   "id": "b6b834bb",
   "metadata": {},
   "outputs": [
    {
     "data": {
      "text/html": [
       "<div>\n",
       "<style scoped>\n",
       "    .dataframe tbody tr th:only-of-type {\n",
       "        vertical-align: middle;\n",
       "    }\n",
       "\n",
       "    .dataframe tbody tr th {\n",
       "        vertical-align: top;\n",
       "    }\n",
       "\n",
       "    .dataframe thead th {\n",
       "        text-align: right;\n",
       "    }\n",
       "</style>\n",
       "<table border=\"1\" class=\"dataframe\">\n",
       "  <thead>\n",
       "    <tr style=\"text-align: right;\">\n",
       "      <th></th>\n",
       "      <th>Activity Period</th>\n",
       "      <th>Operating Airline</th>\n",
       "      <th>Operating Airline IATA Code</th>\n",
       "      <th>Published Airline</th>\n",
       "      <th>Published Airline IATA Code</th>\n",
       "      <th>GEO Summary</th>\n",
       "      <th>GEO Region</th>\n",
       "      <th>Activity Type Code</th>\n",
       "      <th>Price Category Code</th>\n",
       "      <th>Terminal</th>\n",
       "      <th>Boarding Area</th>\n",
       "      <th>Passenger Count</th>\n",
       "    </tr>\n",
       "  </thead>\n",
       "  <tbody>\n",
       "    <tr>\n",
       "      <th>0</th>\n",
       "      <td>200507</td>\n",
       "      <td>ATA Airlines</td>\n",
       "      <td>TZ</td>\n",
       "      <td>ATA Airlines</td>\n",
       "      <td>TZ</td>\n",
       "      <td>Domestic</td>\n",
       "      <td>US</td>\n",
       "      <td>Deplaned</td>\n",
       "      <td>Low Fare</td>\n",
       "      <td>Terminal 1</td>\n",
       "      <td>B</td>\n",
       "      <td>27271</td>\n",
       "    </tr>\n",
       "    <tr>\n",
       "      <th>1</th>\n",
       "      <td>200507</td>\n",
       "      <td>ATA Airlines</td>\n",
       "      <td>TZ</td>\n",
       "      <td>ATA Airlines</td>\n",
       "      <td>TZ</td>\n",
       "      <td>Domestic</td>\n",
       "      <td>US</td>\n",
       "      <td>Enplaned</td>\n",
       "      <td>Low Fare</td>\n",
       "      <td>Terminal 1</td>\n",
       "      <td>B</td>\n",
       "      <td>29131</td>\n",
       "    </tr>\n",
       "    <tr>\n",
       "      <th>2</th>\n",
       "      <td>200507</td>\n",
       "      <td>ATA Airlines</td>\n",
       "      <td>TZ</td>\n",
       "      <td>ATA Airlines</td>\n",
       "      <td>TZ</td>\n",
       "      <td>Domestic</td>\n",
       "      <td>US</td>\n",
       "      <td>Thru / Transit</td>\n",
       "      <td>Low Fare</td>\n",
       "      <td>Terminal 1</td>\n",
       "      <td>B</td>\n",
       "      <td>5415</td>\n",
       "    </tr>\n",
       "    <tr>\n",
       "      <th>3</th>\n",
       "      <td>200507</td>\n",
       "      <td>Air Canada</td>\n",
       "      <td>AC</td>\n",
       "      <td>Air Canada</td>\n",
       "      <td>AC</td>\n",
       "      <td>International</td>\n",
       "      <td>Canada</td>\n",
       "      <td>Deplaned</td>\n",
       "      <td>Other</td>\n",
       "      <td>Terminal 1</td>\n",
       "      <td>B</td>\n",
       "      <td>35156</td>\n",
       "    </tr>\n",
       "    <tr>\n",
       "      <th>4</th>\n",
       "      <td>200507</td>\n",
       "      <td>Air Canada</td>\n",
       "      <td>AC</td>\n",
       "      <td>Air Canada</td>\n",
       "      <td>AC</td>\n",
       "      <td>International</td>\n",
       "      <td>Canada</td>\n",
       "      <td>Enplaned</td>\n",
       "      <td>Other</td>\n",
       "      <td>Terminal 1</td>\n",
       "      <td>B</td>\n",
       "      <td>34090</td>\n",
       "    </tr>\n",
       "  </tbody>\n",
       "</table>\n",
       "</div>"
      ],
      "text/plain": [
       "   Activity Period Operating Airline Operating Airline IATA Code  \\\n",
       "0           200507      ATA Airlines                          TZ   \n",
       "1           200507      ATA Airlines                          TZ   \n",
       "2           200507      ATA Airlines                          TZ   \n",
       "3           200507        Air Canada                          AC   \n",
       "4           200507        Air Canada                          AC   \n",
       "\n",
       "  Published Airline Published Airline IATA Code    GEO Summary GEO Region  \\\n",
       "0      ATA Airlines                          TZ       Domestic         US   \n",
       "1      ATA Airlines                          TZ       Domestic         US   \n",
       "2      ATA Airlines                          TZ       Domestic         US   \n",
       "3        Air Canada                          AC  International     Canada   \n",
       "4        Air Canada                          AC  International     Canada   \n",
       "\n",
       "  Activity Type Code Price Category Code    Terminal Boarding Area  \\\n",
       "0           Deplaned            Low Fare  Terminal 1             B   \n",
       "1           Enplaned            Low Fare  Terminal 1             B   \n",
       "2     Thru / Transit            Low Fare  Terminal 1             B   \n",
       "3           Deplaned               Other  Terminal 1             B   \n",
       "4           Enplaned               Other  Terminal 1             B   \n",
       "\n",
       "   Passenger Count  \n",
       "0            27271  \n",
       "1            29131  \n",
       "2             5415  \n",
       "3            35156  \n",
       "4            34090  "
      ]
     },
     "execution_count": 18,
     "metadata": {},
     "output_type": "execute_result"
    }
   ],
   "source": [
    "df.head()"
   ]
  },
  {
   "cell_type": "code",
   "execution_count": 27,
   "id": "c9dc3aaa",
   "metadata": {},
   "outputs": [],
   "source": [
    "col = db[\"user\"]"
   ]
  },
  {
   "cell_type": "code",
   "execution_count": 28,
   "id": "080612ef",
   "metadata": {},
   "outputs": [],
   "source": [
    "data = df.to_dict(orient = \"records\")"
   ]
  },
  {
   "cell_type": "raw",
   "id": "3e6df377",
   "metadata": {},
   "source": [
    "data"
   ]
  },
  {
   "cell_type": "code",
   "execution_count": 29,
   "id": "26184591",
   "metadata": {},
   "outputs": [
    {
     "data": {
      "text/plain": [
       "<pymongo.results.InsertManyResult at 0x25b45dd7d40>"
      ]
     },
     "execution_count": 29,
     "metadata": {},
     "output_type": "execute_result"
    }
   ],
   "source": [
    "db.user.insert_many(data)"
   ]
  },
  {
   "cell_type": "code",
   "execution_count": 23,
   "id": "e21ae73c",
   "metadata": {},
   "outputs": [],
   "source": [
    "x = col.find_one()"
   ]
  },
  {
   "cell_type": "code",
   "execution_count": 24,
   "id": "ccfd56ab",
   "metadata": {},
   "outputs": [
    {
     "name": "stdout",
     "output_type": "stream",
     "text": [
      "{'_id': ObjectId('643420bfb92d0a17a0a7ea9c'), 'Activity Period': 200507, 'Operating Airline': 'ATA Airlines', 'Operating Airline IATA Code': 'TZ', 'Published Airline': 'ATA Airlines', 'Published Airline IATA Code': 'TZ', 'GEO Summary': 'Domestic', 'GEO Region': 'US', 'Activity Type Code': 'Deplaned', 'Price Category Code': 'Low Fare', 'Terminal': 'Terminal 1', 'Boarding Area': 'B', 'Passenger Count': 27271}\n"
     ]
    }
   ],
   "source": [
    "print(x)"
   ]
  },
  {
   "cell_type": "code",
   "execution_count": null,
   "id": "2c0cdadd",
   "metadata": {},
   "outputs": [],
   "source": []
  }
 ],
 "metadata": {
  "kernelspec": {
   "display_name": "Python 3 (ipykernel)",
   "language": "python",
   "name": "python3"
  },
  "language_info": {
   "codemirror_mode": {
    "name": "ipython",
    "version": 3
   },
   "file_extension": ".py",
   "mimetype": "text/x-python",
   "name": "python",
   "nbconvert_exporter": "python",
   "pygments_lexer": "ipython3",
   "version": "3.9.13"
  }
 },
 "nbformat": 4,
 "nbformat_minor": 5
}
